{
 "cells": [
  {
   "cell_type": "code",
   "execution_count": 2,
   "metadata": {},
   "outputs": [
    {
     "name": "stdout",
     "output_type": "stream",
     "text": [
      "Found 28709 files belonging to 7 classes.\n",
      "Using 22968 files for training.\n",
      "Metal device set to: Apple M1 Pro\n",
      "\n",
      "systemMemory: 16.00 GB\n",
      "maxCacheSize: 5.33 GB\n",
      "\n",
      "Found 28709 files belonging to 7 classes.\n",
      "Using 5741 files for validation.\n"
     ]
    }
   ],
   "source": [
    "import tensorflow as tf\n",
    "\n",
    "# Load the data\n",
    "train_data = tf.keras.preprocessing.image_dataset_from_directory(\n",
    "    '/Users/sathvikchowdaryveerapaneni/Desktop/GitHub/Project/IOS_APP/FER/Data/train',\n",
    "    validation_split=0.2,\n",
    "    subset='training',\n",
    "    seed=123,\n",
    "    labels='inferred',\n",
    "    label_mode='categorical',\n",
    "    image_size=(48, 48),\n",
    "    color_mode='grayscale',\n",
    "    batch_size=32\n",
    ")\n",
    "\n",
    "val_data = tf.keras.preprocessing.image_dataset_from_directory(\n",
    "    '/Users/sathvikchowdaryveerapaneni/Desktop/GitHub/Project/IOS_APP/FER/Data/train',\n",
    "    validation_split=0.2,\n",
    "    subset='validation',\n",
    "    seed=123,\n",
    "    labels='inferred',\n",
    "    label_mode='categorical',\n",
    "    image_size=(48, 48),\n",
    "    color_mode='grayscale',\n",
    "    batch_size=32\n",
    ")\n",
    "\n",
    "# Normalize the data\n",
    "normalization_layer = tf.keras.layers.experimental.preprocessing.Rescaling(1./255)\n",
    "train_data = train_data.map(lambda x, y: (normalization_layer(x), y))\n",
    "val_data = val_data.map(lambda x, y: (normalization_layer(x), y))\n"
   ]
  }
 ],
 "metadata": {
  "kernelspec": {
   "display_name": "Python 3.10 (tensorflow)",
   "language": "python",
   "name": "tensorflow"
  },
  "language_info": {
   "codemirror_mode": {
    "name": "ipython",
    "version": 3
   },
   "file_extension": ".py",
   "mimetype": "text/x-python",
   "name": "python",
   "nbconvert_exporter": "python",
   "pygments_lexer": "ipython3",
   "version": "3.10.9"
  },
  "orig_nbformat": 4
 },
 "nbformat": 4,
 "nbformat_minor": 2
}
